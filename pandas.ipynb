{
  "nbformat": 4,
  "nbformat_minor": 0,
  "metadata": {
    "colab": {
      "name": "pandas.ipynb",
      "version": "0.3.2",
      "provenance": [],
      "include_colab_link": true
    },
    "kernelspec": {
      "name": "python3",
      "display_name": "Python 3"
    }
  },
  "cells": [
    {
      "cell_type": "markdown",
      "metadata": {
        "id": "view-in-github",
        "colab_type": "text"
      },
      "source": [
        "<a href=\"https://colab.research.google.com/github/CuichaoQie/stations/blob/master/pandas.ipynb\" target=\"_parent\"><img src=\"https://colab.research.google.com/assets/colab-badge.svg\" alt=\"Open In Colab\"/></a>"
      ]
    },
    {
      "cell_type": "code",
      "metadata": {
        "id": "HKcz8vwnhYDQ",
        "colab_type": "code",
        "colab": {
          "base_uri": "https://localhost:8080/",
          "height": 185
        },
        "outputId": "b23bcb7f-b681-416a-8260-45135af04eee"
      },
      "source": [
        "import pandas as pd\n",
        "import numpy as np\n",
        "\n",
        "s = pd.Series([1, 2, np.nan])\n",
        "\n",
        "dates = pd.date_range('20190601', periods=6)\n",
        "print(dates)\n",
        "df = pd.DataFrame(np.random.randn(6, 4), index=dates, columns=list('abcd'))\n",
        "print(df)\n"
      ],
      "execution_count": 4,
      "outputs": [
        {
          "output_type": "stream",
          "text": [
            "DatetimeIndex(['2019-06-01', '2019-06-02', '2019-06-03', '2019-06-04',\n",
            "               '2019-06-05', '2019-06-06'],\n",
            "              dtype='datetime64[ns]', freq='D')\n",
            "                   a         b         c         d\n",
            "2019-06-01 -1.343926  0.060838  1.345927 -0.495826\n",
            "2019-06-02  0.497214  0.320894  0.837964 -0.899764\n",
            "2019-06-03  0.660176 -2.089847 -1.040172  0.712404\n",
            "2019-06-04  0.763310  0.581819 -0.673055  1.261856\n",
            "2019-06-05  0.422262  0.951589  0.917772  1.620819\n",
            "2019-06-06 -2.279182  0.057309  1.051379  0.459544\n"
          ],
          "name": "stdout"
        }
      ]
    },
    {
      "cell_type": "code",
      "metadata": {
        "id": "102Uh8IIokwH",
        "colab_type": "code",
        "colab": {}
      },
      "source": [
        ""
      ],
      "execution_count": 0,
      "outputs": []
    },
    {
      "cell_type": "code",
      "metadata": {
        "id": "F7ZvmSxsowzf",
        "colab_type": "code",
        "colab": {}
      },
      "source": [
        ""
      ],
      "execution_count": 0,
      "outputs": []
    }
  ]
}